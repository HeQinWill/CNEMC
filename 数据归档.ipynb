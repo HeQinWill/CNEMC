{
 "cells": [
  {
   "cell_type": "code",
   "execution_count": null,
   "id": "241280f6-bd2f-46af-9cb3-3a966a5d0275",
   "metadata": {},
   "outputs": [],
   "source": [
    "from pathlib import Path\n",
    "import pandas as pd\n",
    "import xarray as xr"
   ]
  },
  {
   "cell_type": "code",
   "execution_count": null,
   "id": "8619191e-7327-4cc1-930a-aaab9efa9127",
   "metadata": {},
   "outputs": [],
   "source": [
    "file_list = list(Path('Archive').rglob('*.csv'))\n",
    "file_list.sort()"
   ]
  },
  {
   "cell_type": "code",
   "execution_count": null,
   "id": "d033e0f9-cc15-4ea4-9f8a-bae529055595",
   "metadata": {},
   "outputs": [],
   "source": [
    "START = 0\n",
    "if Path('cnemc.h5').exists():\n",
    "    ds_archive = xr.open_dataset('cnemc.h5')\n",
    "    START = len(ds_archive['timepoint'])"
   ]
  },
  {
   "cell_type": "markdown",
   "id": "3468f5ba-b1f2-4dec-98c4-fc8081020782",
   "metadata": {},
   "source": [
    "### 合并数据"
   ]
  },
  {
   "cell_type": "code",
   "execution_count": null,
   "id": "f1c723d0-f826-4e52-9260-139b9a3fecd5",
   "metadata": {},
   "outputs": [],
   "source": [
    "def convert_xarray(df):\n",
    "    # df.set_index(['stationcode', 'timepoint'], inplace=True)\n",
    "    ds = df.to_xarray()\n",
    "    # ds = ds.set_coords(['longitude', 'latitude',\n",
    "    #                     'area', 'positionname', 'primarypollutant'])\n",
    "    return ds"
   ]
  },
  {
   "cell_type": "code",
   "execution_count": null,
   "id": "2efc4196-2c2c-43d2-adc4-455f1d47f066",
   "metadata": {},
   "outputs": [],
   "source": [
    "d_list = []\n",
    "if START == 0:\n",
    "    ds = xr.Dataset()\n",
    "else:\n",
    "    ds = ds_archive\n",
    "# df_all = pd.DataFrame()\n",
    "\n",
    "for f in file_list[START:]:\n",
    "    df = pd.read_csv(f, parse_dates=['timepoint'])\n",
    "    df.drop_duplicates(inplace=True)\n",
    "    if df.duplicated(subset='stationcode').sum() > 0:\n",
    "        d_list.append(f)\n",
    "    # else:\n",
    "    #     # df_all = df_all.append(df)\n",
    "    #     ds_tmp = convert_xarray(df)\n",
    "    #     ds = ds.merge(ds_tmp)"
   ]
  },
  {
   "cell_type": "markdown",
   "id": "fcc8ec35-5989-4f7e-aa4b-ed310221a932",
   "metadata": {},
   "source": [
    "### 处理有重复的数据"
   ]
  },
  {
   "cell_type": "code",
   "execution_count": null,
   "id": "ef05b8bf-fb8e-4585-93ea-226b86ed7d81",
   "metadata": {},
   "outputs": [],
   "source": [
    "for d in d_list[:]:\n",
    "    print(d)\n",
    "    df = pd.read_csv(d, parse_dates=['timepoint'])\n",
    "    df.drop_duplicates(inplace=True)\n",
    "    print(df[df.duplicated(subset='stationcode', keep=False)].T)\n",
    "    # 手动进行修改出问题的行，后期可以会换成下面的代码\n",
    "    # df.drop_duplicates(subset='stationcode', keep='last')"
   ]
  },
  {
   "cell_type": "markdown",
   "id": "d6610b0e-08a8-4b04-8d45-13bd70bf9adf",
   "metadata": {},
   "source": [
    "### 导出文件"
   ]
  },
  {
   "cell_type": "code",
   "execution_count": null,
   "id": "06a39438-f810-4bf3-b090-0eb4f10e1513",
   "metadata": {},
   "outputs": [],
   "source": [
    "ds['co'] = ds['co']*1000\n",
    "ds['co_24h'] = ds['co_24h']*1000\n",
    "\n",
    "ds['latitude'].attrs = {'units': 'degree_north'}\n",
    "ds['longitude'].attrs = {'units': 'degree_east'}\n",
    "ds.attrs = {'units': '除AQI无量纲，其他均是微克每立方米'}"
   ]
  },
  {
   "cell_type": "code",
   "execution_count": null,
   "id": "0fb9ff9c-9315-4fd3-b9ab-6a931d0aa6b4",
   "metadata": {},
   "outputs": [],
   "source": [
    "# 选取需要保存的的变量\n",
    "selc_vars = list(ds.keys())[5:]\n",
    "\n",
    "# 构造需要进行压缩的词典\n",
    "enco_vars = {}\n",
    "for d in selc_vars:\n",
    "    enco_vars[d] = {\"zlib\": True,\n",
    "                    \"complevel\": 9,\n",
    "                    \"dtype\": \"uint16\",\n",
    "                    '_FillValue': 65535\n",
    "                    }\n",
    "\n",
    "if START == 0:\n",
    "    ds[selc_vars].to_netcdf('cnemc.h5',\n",
    "                            engine='netcdf4',\n",
    "                            encoding=enco_vars,\n",
    "                            mode='w')\n",
    "else:\n",
    "    ds[selc_vars].to_netcdf('cnemc.h5',\n",
    "                            engine='netcdf4',\n",
    "                            encoding=enco_vars,\n",
    "                            mode='a')"
   ]
  },
  {
   "cell_type": "markdown",
   "id": "4c0c0297-32c5-477b-95fd-045897e2167e",
   "metadata": {},
   "source": [
    "### 检查服务器上的历史数据"
   ]
  },
  {
   "cell_type": "code",
   "execution_count": null,
   "id": "166026dc-c27b-4bef-8d40-d8880e898a24",
   "metadata": {},
   "outputs": [],
   "source": [
    "df13 = pd.read_csv('/home/qin/Documents/CNEMC/Archive/2022-01-10/2022-01-10T20.csv',\n",
    "                   parse_dates=['timepoint'])\n",
    "df.drop_duplicates(inplace=True)\n",
    "df.duplicated(subset='stationcode').sum() > 0"
   ]
  },
  {
   "cell_type": "code",
   "execution_count": null,
   "id": "2dff2e69-4e22-436c-8722-134577e7b54e",
   "metadata": {},
   "outputs": [],
   "source": []
  },
  {
   "cell_type": "code",
   "execution_count": null,
   "id": "885488c4-d003-43ac-8636-d49cb152bde2",
   "metadata": {},
   "outputs": [],
   "source": []
  }
 ],
 "metadata": {
  "kernelspec": {
   "display_name": "Python 3 (ipykernel)",
   "language": "python",
   "name": "python3"
  },
  "language_info": {
   "codemirror_mode": {
    "name": "ipython",
    "version": 3
   },
   "file_extension": ".py",
   "mimetype": "text/x-python",
   "name": "python",
   "nbconvert_exporter": "python",
   "pygments_lexer": "ipython3",
   "version": "3.8.12"
  }
 },
 "nbformat": 4,
 "nbformat_minor": 5
}
