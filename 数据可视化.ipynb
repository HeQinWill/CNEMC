{
 "cells": [
  {
   "cell_type": "code",
   "execution_count": 1,
   "id": "5038389e-c00a-45b1-afe0-725f2924b466",
   "metadata": {},
   "outputs": [],
   "source": [
    "import xarray as xr\n",
    "import plotly.express as px\n",
    "import datashader as dsh\n",
    "import numpy as np\n",
    "import pandas as pd\n",
    "import colorcet\n",
    "ds = xr.open_dataset('cnemc.h5')"
   ]
  },
  {
   "cell_type": "markdown",
   "id": "e40d6aef-90c8-4b97-a50c-0d91b65a11e3",
   "metadata": {
    "tags": []
   },
   "source": [
    "## 转为网格均值数据"
   ]
  },
  {
   "cell_type": "code",
   "execution_count": null,
   "id": "e4642c3a-b993-4b17-b811-25212403e367",
   "metadata": {},
   "outputs": [],
   "source": [
    "def df_to_grid(df, var='pm2_5'):\n",
    "    left = 70  # 左边界\n",
    "    right = 140  # 右边界\n",
    "    top = 55  # 上边界\n",
    "    bottom = 15  # 下边界\n",
    "    width = 280  # 东西向网格数\n",
    "    height = 160  # 南北向网格数\n",
    "\n",
    "    # 取边界范围内的数据\n",
    "    dff = df.query(f'latitude < {top}')\\\n",
    "            .query(f'latitude > {bottom}')\\\n",
    "            .query(f'longitude > {left}')\\\n",
    "            .query(f'longitude < {right}')\n",
    "\n",
    "    # 根据边界范围和网格数，准备栅格化后的画布\n",
    "    cvs = dsh.Canvas(plot_width=width,\n",
    "                     plot_height=height,\n",
    "                     x_range=[left, right],\n",
    "                     y_range=[bottom, top],\n",
    "                     x_axis_type='linear',\n",
    "                     y_axis_type='linear')\n",
    "\n",
    "    # 将站点值放置到画布上\n",
    "    agg = cvs.points(dff,\n",
    "                     x='longitude',\n",
    "                     y='latitude',\n",
    "                     agg=dsh.mean(var))\n",
    "    if 'timepoint' in df.index:\n",
    "        agg['time'] = df.index.get_level_values('timepoint').unique()[0]\n",
    "    else:\n",
    "        agg['time'] = df['timepoint'].unique()[0]\n",
    "    agg['name'] = var\n",
    "    return agg"
   ]
  },
  {
   "cell_type": "code",
   "execution_count": null,
   "id": "0d796a1d-72d9-42c4-88e9-5aea1d1a3abf",
   "metadata": {},
   "outputs": [],
   "source": [
    "aggs = []\n",
    "for i in range(len(ds.timepoint)):\n",
    "    ds_tmp = ds.isel(timepoint=i)\n",
    "    df = ds_tmp.to_dataframe()\n",
    "    agg = df_to_grid(df)\n",
    "    aggs.append(agg)\n",
    "\n",
    "ds_grid = xr.concat(aggs, 'time')"
   ]
  },
  {
   "cell_type": "code",
   "execution_count": null,
   "id": "ae158321-4334-4b97-a89a-8005222d5367",
   "metadata": {},
   "outputs": [],
   "source": [
    "ds_grid.mean('time').plot()"
   ]
  },
  {
   "cell_type": "code",
   "execution_count": null,
   "id": "6005a2c9-c23f-4124-be4b-2b055c54c809",
   "metadata": {},
   "outputs": [],
   "source": [
    "fig = px.imshow(ds_grid[-100:], animation_frame='time',\n",
    "                width=800, height=600,\n",
    "                zmin=0, zmax=100,\n",
    "                aspect='equal',\n",
    "                origin='lower',\n",
    "                color_continuous_scale='viridis')\n",
    "fig.show()"
   ]
  },
  {
   "cell_type": "markdown",
   "id": "d0034610-e4a6-475d-9edc-5721660fede2",
   "metadata": {},
   "source": [
    "## 对某个区域的站点数据进行时序分析"
   ]
  },
  {
   "cell_type": "code",
   "execution_count": null,
   "id": "7d9eb360-bf73-4357-8eb8-2a8ed5a1dcfe",
   "metadata": {},
   "outputs": [],
   "source": [
    "# 直接使用 xarray 数据\n",
    "ds_tmp = ds['pm2_5'][ds['area'] == '北京市']"
   ]
  },
  {
   "cell_type": "code",
   "execution_count": null,
   "id": "aefa8e80-68d1-43f8-93f3-c742a008cca6",
   "metadata": {},
   "outputs": [],
   "source": [
    "fig = px.imshow(ds_tmp, color_continuous_scale='RdBu_r',\n",
    "                zmin=0, zmax=200,\n",
    "                aspect='equal')\n",
    "fig.show()"
   ]
  },
  {
   "cell_type": "code",
   "execution_count": null,
   "id": "b979a01c-39c1-466c-97a9-f8f755f1cb6b",
   "metadata": {},
   "outputs": [],
   "source": [
    "# 转为表格可绘制更多类型\n",
    "df_tmp = ds['no2'].to_dataframe().reset_index()\n",
    "df_tmp = df_tmp[df_tmp.area.isin(['北京市', '上海市', '广州市', '南通市', '徐州市'])]"
   ]
  },
  {
   "cell_type": "code",
   "execution_count": null,
   "id": "2ecf49e6-264e-401e-885c-e0821b8ce607",
   "metadata": {},
   "outputs": [],
   "source": [
    "fig = px.line(df_tmp, x=\"timepoint\", y=\"no2\",\n",
    "              color=\"area\",\n",
    "              line_group=\"positionname\",\n",
    "              hover_name=\"positionname\",\n",
    "              line_shape='spline',\n",
    "              # markers=True,\n",
    "              render_mode=\"svg\")\n",
    "fig.show()"
   ]
  },
  {
   "cell_type": "markdown",
   "id": "2c2bdda0-302b-4726-abfd-dd387f6f6ad4",
   "metadata": {},
   "source": [
    "## 将站点数据表示在地图上"
   ]
  },
  {
   "cell_type": "code",
   "execution_count": null,
   "id": "c7390a3d-2eb1-456b-909a-c7f3cff02402",
   "metadata": {},
   "outputs": [],
   "source": [
    "ds_tmp = ds['pm2_5'].mean(dim='timepoint') - ds['pm2_5'].mean()  # 站点均值减去所有数据均值\n",
    "df_tmp = ds_tmp.to_dataframe().reset_index()"
   ]
  },
  {
   "cell_type": "code",
   "execution_count": null,
   "id": "0ccfc8db-eb18-4572-b47d-14aa4141e7d7",
   "metadata": {},
   "outputs": [],
   "source": [
    "fig = px.scatter_mapbox(df_tmp,\n",
    "                        lat=\"latitude\",\n",
    "                        lon=\"longitude\",\n",
    "                        hover_name=\"positionname\",\n",
    "                        color=\"pm2_5\",\n",
    "                        range_color=(-100, 100),\n",
    "                        mapbox_style=\"open-street-map\",\n",
    "                        width=1200, height=600,\n",
    "                        color_continuous_scale=px.colors.cyclical.IceFire,\n",
    "                        size_max=35, zoom=5)\n",
    "fig.show()"
   ]
  },
  {
   "cell_type": "code",
   "execution_count": null,
   "id": "a8bbe9b7-949d-4f2a-b176-2a3caac39642",
   "metadata": {},
   "outputs": [],
   "source": [
    "# 也可以直接导出数据到 https://kepler.gl/demo 绘制\n",
    "df_tmp.to_csv('df_tmp.csv')\n",
    "df_tmp"
   ]
  }
 ],
 "metadata": {
  "kernelspec": {
   "display_name": "Python 3 (ipykernel)",
   "language": "python",
   "name": "python3"
  },
  "language_info": {
   "codemirror_mode": {
    "name": "ipython",
    "version": 3
   },
   "file_extension": ".py",
   "mimetype": "text/x-python",
   "name": "python",
   "nbconvert_exporter": "python",
   "pygments_lexer": "ipython3",
   "version": "3.8.12"
  }
 },
 "nbformat": 4,
 "nbformat_minor": 5
}
