{
 "cells": [
  {
   "cell_type": "code",
   "execution_count": null,
   "id": "e4f9a77e",
   "metadata": {},
   "outputs": [],
   "source": [
    "from io import StringIO\n",
    "from wcf.records import Record, print_records\n",
    "from contextlib import redirect_stdout\n",
    "import xml.dom.minidom\n",
    "import pandas as pd\n",
    "import numpy as np\n",
    "from pathlib import Path\n",
    "\n",
    "\n",
    "def xmlparse(xmlstr):\n",
    "    '''\n",
    "    parse air quality xml data to dict list\n",
    "    '''\n",
    "    dom = xml.dom.minidom.parseString(xmlstr)\n",
    "    stats = dom.getElementsByTagName(\"AQIDataPublishLive\")\n",
    "    airdata = []\n",
    "    for stat in stats:\n",
    "        r = {}\n",
    "        for node in stat.childNodes:\n",
    "            if (node.nodeName == \"#text\" or\n",
    "                    node.nodeName == \"OpenAccessGenerated\"):\n",
    "                continue\n",
    "            inx = node.nodeName\n",
    "            inx = inx.lower()\n",
    "            for n in node.childNodes:\n",
    "                r[inx] = n.data\n",
    "        airdata.append(r)\n",
    "    return airdata\n",
    "\n",
    "\n",
    "def data_from_xml_json(xmlfile):\n",
    "    '''\n",
    "    预处理由 wcf 转换后的 xml，将不必要的字符删除\n",
    "    '''\n",
    "    data = xmlfile\n",
    "\n",
    "    # this is for the air quality data, to split some charicters\n",
    "    data = data.replace(\"a:\", \"\")\n",
    "    data = data.replace(\"b:\", \"\")\n",
    "    data = data.replace(\"c:\", \"\")\n",
    "    data = data.replace(\"&mdash\", \"-\")\n",
    "    return xmlparse(data)"
   ]
  },
  {
   "cell_type": "markdown",
   "id": "64f4dbe9-67cd-43f7-b503-e9bf2b372213",
   "metadata": {},
   "source": [
    "### 读取原始 wcf 数据列表"
   ]
  },
  {
   "cell_type": "code",
   "execution_count": null,
   "id": "a12008f8-67c5-429e-b87b-758a0751be58",
   "metadata": {},
   "outputs": [],
   "source": [
    "# 尽量用后一个时刻的结果（也就是第 13 分钟），可能数据更全些\n",
    "fileList = list(Path('.').glob('cnemc_*13'))"
   ]
  },
  {
   "cell_type": "code",
   "execution_count": null,
   "id": "ef036d3e-6f29-4557-b49b-e57dc3e0a365",
   "metadata": {},
   "outputs": [],
   "source": [
    "# fileList = list(Path('.').glob('cnemc_*43'))"
   ]
  },
  {
   "cell_type": "markdown",
   "id": "9b59634b-5ba8-4586-abc6-3f142fa2da7d",
   "metadata": {},
   "source": [
    "### 转换 wcf 为 csv\n",
    "如遇到问题，请重新读取数据列表，同时手动对`err_num`加1"
   ]
  },
  {
   "cell_type": "code",
   "execution_count": null,
   "id": "951311ed-c7d3-47c0-831f-191bfb4386a2",
   "metadata": {},
   "outputs": [],
   "source": [
    "err_num = 0\n",
    "for f in fileList[err_num:]:\n",
    "    print(f)\n",
    "    r = open(f, 'rb')\n",
    "    records = Record.parse(r)\n",
    "\n",
    "    # 将print在std.out的内容赋予变量out_xml\n",
    "    ff = StringIO()\n",
    "    with redirect_stdout(ff):\n",
    "        print_records(records)\n",
    "    out_xml = ff.getvalue()\n",
    "\n",
    "    # 将数据从总的 xml 转为各个 dict 组成的 list\n",
    "    data_dict = data_from_xml_json(out_xml)\n",
    "\n",
    "    # 将字典转为 DataFrame\n",
    "    df = pd.DataFrame.from_dict(data_dict)\n",
    "    # 如果出现不同的时间就先输出一份原始数据\n",
    "    if len(df['timepoint'].unique()) > 1:\n",
    "        df.to_csv('Error'+df['timepoint'].unique()[0][:13]+'.csv', index=None)\n",
    "\n",
    "    # 将数据处理下再输出\n",
    "    df_ = df[['timepoint', 'stationcode', 'longitude', 'latitude',\n",
    "              'area', 'positionname', 'primarypollutant', 'aqi',\n",
    "              'pm10', 'pm10_24h', 'pm2_5', 'pm2_5_24h',\n",
    "              'o3', 'o3_24h', 'o3_8h', 'o3_8h_24h',\n",
    "              'no2', 'no2_24h', 'so2', 'so2_24h',\n",
    "              'co', 'co_24h']]\n",
    "    df_ = df_.where(df != '-;', np.nan)\n",
    "    # 将每小时数据保存为 csv 文件\n",
    "    df_.to_csv(df['timepoint'].unique()[-1][:13]+'.csv', index=None)\n",
    "    # 没问题就可以删除\n",
    "    f.unlink()"
   ]
  },
  {
   "cell_type": "markdown",
   "id": "d52cb743-a170-467a-827f-7e0a46a6a2ad",
   "metadata": {},
   "source": [
    "### 压缩 csv 文件\n",
    "压缩文件名为当前时间"
   ]
  },
  {
   "cell_type": "code",
   "execution_count": null,
   "id": "99707e8b",
   "metadata": {},
   "outputs": [],
   "source": [
    "!zip cnemc13_$(date +%Y%m%d%H%M).zip *.csv\n",
    "!rm *.csv\n",
    "!mv cnemc*13 error"
   ]
  },
  {
   "cell_type": "code",
   "execution_count": null,
   "id": "3b593a93-b822-4063-8930-af00146d0c95",
   "metadata": {},
   "outputs": [],
   "source": [
    "# zip cnemc43_$(date +%Y%m%d%H%M).zip *.csv\n",
    "# !rm *.csv\n",
    "# !mv cnemc*43 Error"
   ]
  },
  {
   "cell_type": "markdown",
   "id": "95ff5204-a5f8-4f9c-bb82-63ae89314425",
   "metadata": {},
   "source": [
    "### 上传、归档压缩文件"
   ]
  },
  {
   "cell_type": "code",
   "execution_count": null,
   "id": "a9da7546",
   "metadata": {},
   "outputs": [],
   "source": [
    "!../transfer cow *.zip -s\n",
    "!mv *.zip Archive"
   ]
  }
 ],
 "metadata": {
  "kernelspec": {
   "display_name": "Python 3 (ipykernel)",
   "language": "python",
   "name": "python3"
  },
  "language_info": {
   "codemirror_mode": {
    "name": "ipython",
    "version": 3
   },
   "file_extension": ".py",
   "mimetype": "text/x-python",
   "name": "python",
   "nbconvert_exporter": "python",
   "pygments_lexer": "ipython3",
   "version": "3.8.12"
  }
 },
 "nbformat": 4,
 "nbformat_minor": 5
}
